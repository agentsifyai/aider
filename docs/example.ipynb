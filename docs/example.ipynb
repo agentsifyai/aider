{
 "cells": [
  {
   "cell_type": "markdown",
   "id": "cf3671b3",
   "metadata": {},
   "source": [
    "# Example\n",
    "\n",
    "This notebook's goal is to represent the sample architecture approach for our work. It is done on 15th April 25' so if it is not up-to-date it probably was not updated.\n",
    "\n",
    "## Definitions\n",
    "\n",
    "Let's define samples in this notebook to have necessary classes in scope."
   ]
  },
  {
   "cell_type": "code",
   "execution_count": null,
   "id": "1b06d01e",
   "metadata": {},
   "outputs": [],
   "source": [
    "## Domain - Defects\n",
    "\n",
    "## Each of these classes should have its proper fields however for this example I omit this step.\n",
    "\n",
    "class Defect: \n",
    "    pass\n",
    "\n",
    "class PotentialDefect(Defect): \n",
    "    pass\n",
    "\n",
    "class DetailedPotentialDefect(PotentialDefect): \n",
    "    pass\n",
    "\n",
    "## Strongly typed report in markdown format\n",
    "## We may add methods in the future in this class for i.e. rendering the report in different formats or apply different chunking\n",
    "\n",
    "class MarkdownReport:\n",
    "    content: str\n",
    "\n",
    "    def __init__(self, content: str):\n",
    "        self.content = content\n",
    "\n"
   ]
  },
  {
   "cell_type": "markdown",
   "id": "8829e63b",
   "metadata": {},
   "source": [
    "## Architecture flow blocks\n",
    "\n",
    "So now as we have classes define above let's inspect how strategies would look like..."
   ]
  },
  {
   "cell_type": "code",
   "execution_count": null,
   "id": "7cc65ce1",
   "metadata": {},
   "outputs": [],
   "source": [
    "from typing import List\n",
    "\n",
    "## Data Extractor - a simple class to extract data from the report\n",
    "\n",
    "class DataExtractor:\n",
    "\n",
    "    def get_universal_report_from_file(file_path: str) -> MarkdownReport:\n",
    "        pass # This should be implemented to read the file and return a MarkdownReport object\n",
    "\n",
    "\n",
    "## Application - strategies\n",
    "\n",
    "class DefectDetailingStrategy:\n",
    "\n",
    "    def detail_defect(self, defect: PotentialDefect) -> DetailedPotentialDefect:\n",
    "        raise NotImplementedError(\"This method should be overridden by subclasses\")\n",
    "\n",
    "\n",
    "class DefectIdentificationStrategy:\n",
    "\n",
    "    def selection_criteria() -> str:\n",
    "        return \"Selection criteria for defect identification\"\n",
    "    \n",
    "    def detailing_strategy(self) -> DefectDetailingStrategy:\n",
    "        return DefectDetailingStrategy() # This should be some inheritor of DefectDetailingStrategy\n",
    "\n",
    "    def identify_defects(self, report: MarkdownReport) -> List[PotentialDefect]:\n",
    "        raise NotImplementedError(\"This method should be overridden by subclasses\")\n",
    "    \n",
    "\n",
    "## The engine to select appropriate defect id strategy\n",
    "\n",
    "class DefectIdSelectionEngine:\n",
    "    \n",
    "    def choose_identification_strategy(self, report: MarkdownReport) -> DefectIdentificationStrategy:\n",
    "        # This should be implemented to choose the appropriate strategy based on the report content\n",
    "        pass\n"
   ]
  },
  {
   "cell_type": "markdown",
   "id": "75bff8da",
   "metadata": {},
   "source": [
    "## Sample flow\n",
    "\n",
    "So now let's look how it should work:"
   ]
  },
  {
   "cell_type": "code",
   "execution_count": null,
   "id": "f43e9c62",
   "metadata": {},
   "outputs": [],
   "source": [
    "file_path = \"path/to/report.pdf\"  # Replace with the actual file path\n",
    "\n",
    "report = DataExtractor.get_universal_report_from_file(file_path)\n",
    "id_selection_engine = DefectIdSelectionEngine()\n",
    "strategy = id_selection_engine.choose_identification_strategy(report)\n",
    "defects = strategy.identify_defects(report)\n",
    "detailed_defects = [strategy.detailing_strategy().detail_defect(defect) for defect in defects]\n",
    "\n",
    "print(detailed_defects)  # This will print the detailed defects\n",
    "\n",
    "## Note: The above code is a simplified example and does not include the actual implementations of the methods.\n",
    "## In a real-world scenario, you would need to implement the logic for reading the file, identifying defects, and detailing them.\n",
    "## Latency also should be improved with async processing as this will take eternity in some cases without it."
   ]
  }
 ],
 "metadata": {
  "language_info": {
   "name": "python"
  }
 },
 "nbformat": 4,
 "nbformat_minor": 5
}
